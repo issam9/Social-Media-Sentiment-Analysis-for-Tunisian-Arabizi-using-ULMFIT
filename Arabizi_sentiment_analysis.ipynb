{
  "nbformat": 4,
  "nbformat_minor": 0,
  "metadata": {
    "accelerator": "GPU",
    "colab": {
      "name": "Arabizi_sentiment_analysis.ipynb",
      "provenance": [],
      "collapsed_sections": [],
      "include_colab_link": true
    },
    "kernelspec": {
      "display_name": "Python 3",
      "name": "python3"
    }
  },
  "cells": [
    {
      "cell_type": "markdown",
      "metadata": {
        "id": "view-in-github",
        "colab_type": "text"
      },
      "source": [
        "<a href=\"https://colab.research.google.com/github/issam9/Social-Media-Sentiment-Analysis-for-Tunisian-Arabizi-using-ULMFIT/blob/main/Arabizi_sentiment_analysis.ipynb\" target=\"_parent\"><img src=\"https://colab.research.google.com/assets/colab-badge.svg\" alt=\"Open In Colab\"/></a>"
      ]
    },
    {
      "cell_type": "code",
      "metadata": {
        "colab": {
          "base_uri": "https://localhost:8080/"
        },
        "id": "T9ADYL_TVS_V",
        "outputId": "4f92ebf6-3745-446c-cae8-8d61581e6c24"
      },
      "source": [
        "!pip install fastai -q --upgrade\n",
        "!pip install sentencepiece!=0.1.90,!=0.1.91"
      ],
      "execution_count": null,
      "outputs": [
        {
          "output_type": "stream",
          "text": [
            "\u001b[K     |████████████████████████████████| 194kB 7.3MB/s \n",
            "\u001b[K     |████████████████████████████████| 12.8MB 261kB/s \n",
            "\u001b[K     |████████████████████████████████| 61kB 8.8MB/s \n",
            "\u001b[K     |████████████████████████████████| 776.8MB 23kB/s \n",
            "\u001b[31mERROR: torchtext 0.9.1 has requirement torch==1.8.1, but you'll have torch 1.7.1 which is incompatible.\u001b[0m\n",
            "\u001b[?25hCollecting sentencepiece!=0.1.90,!=0.1.91\n",
            "\u001b[?25l  Downloading https://files.pythonhosted.org/packages/f5/99/e0808cb947ba10f575839c43e8fafc9cc44e4a7a2c8f79c60db48220a577/sentencepiece-0.1.95-cp37-cp37m-manylinux2014_x86_64.whl (1.2MB)\n",
            "\u001b[K     |████████████████████████████████| 1.2MB 8.3MB/s \n",
            "\u001b[?25hInstalling collected packages: sentencepiece\n",
            "Successfully installed sentencepiece-0.1.95\n"
          ],
          "name": "stdout"
        }
      ]
    },
    {
      "cell_type": "code",
      "metadata": {
        "id": "2Ys9TMYLVgPo"
      },
      "source": [
        "from fastai.text.all import *\n",
        "from fastai import *\n",
        "import pandas as pd\n",
        "import numpy as np\n",
        "import torch as torch"
      ],
      "execution_count": null,
      "outputs": []
    },
    {
      "cell_type": "code",
      "metadata": {
        "colab": {
          "base_uri": "https://localhost:8080/"
        },
        "id": "ZNFO6f12Vwit",
        "outputId": "41add176-47a8-4c07-8af7-100d9081954b"
      },
      "source": [
        "# mount colab\n",
        "from google.colab import drive \n",
        "drive.mount('/content/drive')"
      ],
      "execution_count": null,
      "outputs": [
        {
          "output_type": "stream",
          "text": [
            "Mounted at /content/drive\n"
          ],
          "name": "stdout"
        }
      ]
    },
    {
      "cell_type": "code",
      "metadata": {
        "id": "k1Quxj03VkP0"
      },
      "source": [
        "# path contains Train.csv and Test.csv files\n",
        "path = Path('/content/drive/MyDrive/ml/projects/sa')\n",
        "\n",
        "# path for fastai dataloaders\n",
        "path_dls = Path('/content/drive/MyDrive/ml/projects/sa/dls')\n",
        "\n",
        "# path for save sentencepiece model and vocab\n",
        "spm_path = path/'models/spms3'\n",
        "\n",
        "# path to save models\n",
        "model_path = path/'models'"
      ],
      "execution_count": null,
      "outputs": []
    },
    {
      "cell_type": "code",
      "metadata": {
        "id": "RYUhD7cPZ_E0"
      },
      "source": [
        "lang='ar'\n",
        "# batch size\n",
        "bs=128"
      ],
      "execution_count": null,
      "outputs": []
    },
    {
      "cell_type": "code",
      "metadata": {
        "id": "CrNEIuPk6Jj4"
      },
      "source": [
        "# setting random seed\n",
        "def random_seed(seed_value, use_cuda):\n",
        "    np.random.seed(seed_value) # cpu vars\n",
        "    torch.manual_seed(seed_value) # cpu  vars\n",
        "    random.seed(seed_value) # Python\n",
        "    if use_cuda: \n",
        "        torch.cuda.manual_seed(seed_value)\n",
        "        torch.cuda.manual_seed_all(seed_value) # gpu vars\n",
        "        torch.backends.cudnn.deterministic = True  #needed\n",
        "        torch.backends.cudnn.benchmark = False\n",
        "\n",
        "\n",
        "random_seed(42,True)"
      ],
      "execution_count": null,
      "outputs": []
    },
    {
      "cell_type": "code",
      "metadata": {
        "id": "LYhRhC6BVm2B"
      },
      "source": [
        "train_df = pd.read_csv(path/'Train.csv')"
      ],
      "execution_count": null,
      "outputs": []
    },
    {
      "cell_type": "code",
      "metadata": {
        "id": "WTdzyf_TVsHF"
      },
      "source": [
        "test_df = pd.read_csv(path/'Test.csv')"
      ],
      "execution_count": null,
      "outputs": []
    },
    {
      "cell_type": "markdown",
      "metadata": {
        "id": "Zt4PQG_ug0Vn"
      },
      "source": [
        "# Training a language model on Train and Test set"
      ]
    },
    {
      "cell_type": "code",
      "metadata": {
        "id": "RthWNaSA7uUb"
      },
      "source": [
        "random_seed(42,True)"
      ],
      "execution_count": null,
      "outputs": []
    },
    {
      "cell_type": "code",
      "metadata": {
        "id": "sEHDfYGig8-j"
      },
      "source": [
        "# concatenate train and test dataframe\n",
        "text_df = pd.concat([train_df, test_df], sort=False)"
      ],
      "execution_count": null,
      "outputs": []
    },
    {
      "cell_type": "code",
      "metadata": {
        "colab": {
          "base_uri": "https://localhost:8080/",
          "height": 71
        },
        "id": "GjPbfXBVhJM_",
        "outputId": "f3b00217-4e1e-484a-8eb1-782f6b4d9869"
      },
      "source": [
        "# a sentencepiece tokenizer with a vocab_sz of 300\n",
        "tok = SentencePieceTokenizer(lang=lang, cache_dir=spm_path, vocab_sz=300)\n",
        "\n",
        "# dataloader for language model\n",
        "dls_fn = DataBlock(blocks=TextBlock.from_df('text', is_lm=True, tok=tok),\n",
        "    splitter=RandomSplitter(0.05, seed=42),\n",
        "    get_x=ColReader('text')\n",
        ").dataloaders(text_df, bs=bs)"
      ],
      "execution_count": null,
      "outputs": [
        {
          "output_type": "display_data",
          "data": {
            "text/html": [
              ""
            ],
            "text/plain": [
              "<IPython.core.display.HTML object>"
            ]
          },
          "metadata": {
            "tags": []
          }
        },
        {
          "output_type": "display_data",
          "data": {
            "text/html": [
              ""
            ],
            "text/plain": [
              "<IPython.core.display.HTML object>"
            ]
          },
          "metadata": {
            "tags": []
          }
        },
        {
          "output_type": "stream",
          "text": [
            "/usr/local/lib/python3.7/dist-packages/numpy/core/_asarray.py:83: VisibleDeprecationWarning: Creating an ndarray from ragged nested sequences (which is a list-or-tuple of lists-or-tuples-or ndarrays with different lengths or shapes) is deprecated. If you meant to do this, you must specify 'dtype=object' when creating the ndarray\n",
            "  return array(a, dtype, copy=False, order=order)\n"
          ],
          "name": "stderr"
        }
      ]
    },
    {
      "cell_type": "code",
      "metadata": {
        "colab": {
          "base_uri": "https://localhost:8080/"
        },
        "id": "wIlaKQtYbZZa",
        "outputId": "e186b4e4-84ca-4ade-c4a2-91fe4dce2899"
      },
      "source": [
        "len(dls_fn.vocab)"
      ],
      "execution_count": null,
      "outputs": [
        {
          "output_type": "execute_result",
          "data": {
            "text/plain": [
              "344"
            ]
          },
          "metadata": {
            "tags": []
          },
          "execution_count": 30
        }
      ]
    },
    {
      "cell_type": "code",
      "metadata": {
        "id": "6Ih0Wd8YcXSV"
      },
      "source": [
        "# save dataloader for later use\n",
        "torch.save(dls_fn, path/'dls/dls_fn_300.pkl')"
      ],
      "execution_count": null,
      "outputs": []
    },
    {
      "cell_type": "code",
      "metadata": {
        "id": "ksjcygCwhKVF"
      },
      "source": [
        "# initialize a language model\n",
        "learn = language_model_learner(dls_fn, AWD_LSTM, pretrained=False, drop_mult=1., wd=0.1,\n",
        "                               metrics=[accuracy, Perplexity()]).to_fp16()"
      ],
      "execution_count": null,
      "outputs": []
    },
    {
      "cell_type": "code",
      "metadata": {
        "id": "Iof-FSQ3hKtz"
      },
      "source": [
        "learn.path = model_path"
      ],
      "execution_count": null,
      "outputs": []
    },
    {
      "cell_type": "code",
      "metadata": {
        "colab": {
          "base_uri": "https://localhost:8080/",
          "height": 979
        },
        "id": "BZFdwVsBhLYG",
        "outputId": "ddb9c84d-35bb-4cd2-8656-81b8f338e062"
      },
      "source": [
        "# training\n",
        "learn.fit_one_cycle(30, 3e-2)"
      ],
      "execution_count": null,
      "outputs": [
        {
          "output_type": "display_data",
          "data": {
            "text/html": [
              "<table border=\"1\" class=\"dataframe\">\n",
              "  <thead>\n",
              "    <tr style=\"text-align: left;\">\n",
              "      <th>epoch</th>\n",
              "      <th>train_loss</th>\n",
              "      <th>valid_loss</th>\n",
              "      <th>accuracy</th>\n",
              "      <th>perplexity</th>\n",
              "      <th>time</th>\n",
              "    </tr>\n",
              "  </thead>\n",
              "  <tbody>\n",
              "    <tr>\n",
              "      <td>0</td>\n",
              "      <td>4.492737</td>\n",
              "      <td>4.286273</td>\n",
              "      <td>0.119003</td>\n",
              "      <td>72.695030</td>\n",
              "      <td>03:08</td>\n",
              "    </tr>\n",
              "    <tr>\n",
              "      <td>1</td>\n",
              "      <td>3.729388</td>\n",
              "      <td>3.571048</td>\n",
              "      <td>0.230364</td>\n",
              "      <td>35.553825</td>\n",
              "      <td>03:08</td>\n",
              "    </tr>\n",
              "    <tr>\n",
              "      <td>2</td>\n",
              "      <td>3.541823</td>\n",
              "      <td>3.430597</td>\n",
              "      <td>0.251037</td>\n",
              "      <td>30.895084</td>\n",
              "      <td>03:05</td>\n",
              "    </tr>\n",
              "    <tr>\n",
              "      <td>3</td>\n",
              "      <td>3.489334</td>\n",
              "      <td>3.390949</td>\n",
              "      <td>0.254104</td>\n",
              "      <td>29.694126</td>\n",
              "      <td>03:04</td>\n",
              "    </tr>\n",
              "    <tr>\n",
              "      <td>4</td>\n",
              "      <td>3.496766</td>\n",
              "      <td>3.391620</td>\n",
              "      <td>0.254275</td>\n",
              "      <td>29.714041</td>\n",
              "      <td>03:02</td>\n",
              "    </tr>\n",
              "    <tr>\n",
              "      <td>5</td>\n",
              "      <td>3.492847</td>\n",
              "      <td>3.389706</td>\n",
              "      <td>0.255441</td>\n",
              "      <td>29.657228</td>\n",
              "      <td>03:00</td>\n",
              "    </tr>\n",
              "    <tr>\n",
              "      <td>6</td>\n",
              "      <td>3.468917</td>\n",
              "      <td>3.377698</td>\n",
              "      <td>0.254629</td>\n",
              "      <td>29.303236</td>\n",
              "      <td>03:00</td>\n",
              "    </tr>\n",
              "    <tr>\n",
              "      <td>7</td>\n",
              "      <td>3.434980</td>\n",
              "      <td>3.331117</td>\n",
              "      <td>0.262943</td>\n",
              "      <td>27.969578</td>\n",
              "      <td>02:59</td>\n",
              "    </tr>\n",
              "    <tr>\n",
              "      <td>8</td>\n",
              "      <td>3.398905</td>\n",
              "      <td>3.315434</td>\n",
              "      <td>0.266305</td>\n",
              "      <td>27.534328</td>\n",
              "      <td>03:00</td>\n",
              "    </tr>\n",
              "    <tr>\n",
              "      <td>9</td>\n",
              "      <td>3.372394</td>\n",
              "      <td>3.277642</td>\n",
              "      <td>0.271239</td>\n",
              "      <td>26.513182</td>\n",
              "      <td>03:02</td>\n",
              "    </tr>\n",
              "    <tr>\n",
              "      <td>10</td>\n",
              "      <td>3.344864</td>\n",
              "      <td>3.259953</td>\n",
              "      <td>0.274249</td>\n",
              "      <td>26.048326</td>\n",
              "      <td>03:01</td>\n",
              "    </tr>\n",
              "    <tr>\n",
              "      <td>11</td>\n",
              "      <td>3.314085</td>\n",
              "      <td>3.236627</td>\n",
              "      <td>0.278990</td>\n",
              "      <td>25.447731</td>\n",
              "      <td>02:59</td>\n",
              "    </tr>\n",
              "    <tr>\n",
              "      <td>12</td>\n",
              "      <td>3.303921</td>\n",
              "      <td>3.220435</td>\n",
              "      <td>0.281113</td>\n",
              "      <td>25.039013</td>\n",
              "      <td>02:58</td>\n",
              "    </tr>\n",
              "    <tr>\n",
              "      <td>13</td>\n",
              "      <td>3.291173</td>\n",
              "      <td>3.199018</td>\n",
              "      <td>0.284509</td>\n",
              "      <td>24.508451</td>\n",
              "      <td>02:58</td>\n",
              "    </tr>\n",
              "    <tr>\n",
              "      <td>14</td>\n",
              "      <td>3.253424</td>\n",
              "      <td>3.172964</td>\n",
              "      <td>0.288931</td>\n",
              "      <td>23.878157</td>\n",
              "      <td>02:58</td>\n",
              "    </tr>\n",
              "    <tr>\n",
              "      <td>15</td>\n",
              "      <td>3.239468</td>\n",
              "      <td>3.149798</td>\n",
              "      <td>0.293235</td>\n",
              "      <td>23.331360</td>\n",
              "      <td>02:57</td>\n",
              "    </tr>\n",
              "    <tr>\n",
              "      <td>16</td>\n",
              "      <td>3.207041</td>\n",
              "      <td>3.128480</td>\n",
              "      <td>0.296698</td>\n",
              "      <td>22.839241</td>\n",
              "      <td>02:56</td>\n",
              "    </tr>\n",
              "    <tr>\n",
              "      <td>17</td>\n",
              "      <td>3.177847</td>\n",
              "      <td>3.102183</td>\n",
              "      <td>0.300859</td>\n",
              "      <td>22.246464</td>\n",
              "      <td>02:56</td>\n",
              "    </tr>\n",
              "    <tr>\n",
              "      <td>18</td>\n",
              "      <td>3.139534</td>\n",
              "      <td>3.080935</td>\n",
              "      <td>0.305228</td>\n",
              "      <td>21.778751</td>\n",
              "      <td>02:57</td>\n",
              "    </tr>\n",
              "    <tr>\n",
              "      <td>19</td>\n",
              "      <td>3.115988</td>\n",
              "      <td>3.053690</td>\n",
              "      <td>0.310197</td>\n",
              "      <td>21.193407</td>\n",
              "      <td>02:57</td>\n",
              "    </tr>\n",
              "    <tr>\n",
              "      <td>20</td>\n",
              "      <td>3.080746</td>\n",
              "      <td>3.032105</td>\n",
              "      <td>0.314107</td>\n",
              "      <td>20.740841</td>\n",
              "      <td>02:56</td>\n",
              "    </tr>\n",
              "    <tr>\n",
              "      <td>21</td>\n",
              "      <td>3.041462</td>\n",
              "      <td>3.006247</td>\n",
              "      <td>0.319367</td>\n",
              "      <td>20.211401</td>\n",
              "      <td>02:56</td>\n",
              "    </tr>\n",
              "    <tr>\n",
              "      <td>22</td>\n",
              "      <td>3.001508</td>\n",
              "      <td>2.985130</td>\n",
              "      <td>0.323237</td>\n",
              "      <td>19.789076</td>\n",
              "      <td>02:58</td>\n",
              "    </tr>\n",
              "    <tr>\n",
              "      <td>23</td>\n",
              "      <td>2.955792</td>\n",
              "      <td>2.965573</td>\n",
              "      <td>0.326469</td>\n",
              "      <td>19.405821</td>\n",
              "      <td>02:59</td>\n",
              "    </tr>\n",
              "    <tr>\n",
              "      <td>24</td>\n",
              "      <td>2.899377</td>\n",
              "      <td>2.943118</td>\n",
              "      <td>0.330590</td>\n",
              "      <td>18.974920</td>\n",
              "      <td>02:57</td>\n",
              "    </tr>\n",
              "    <tr>\n",
              "      <td>25</td>\n",
              "      <td>2.851460</td>\n",
              "      <td>2.932516</td>\n",
              "      <td>0.334688</td>\n",
              "      <td>18.774805</td>\n",
              "      <td>02:57</td>\n",
              "    </tr>\n",
              "    <tr>\n",
              "      <td>26</td>\n",
              "      <td>2.792053</td>\n",
              "      <td>2.923782</td>\n",
              "      <td>0.336237</td>\n",
              "      <td>18.611546</td>\n",
              "      <td>02:55</td>\n",
              "    </tr>\n",
              "    <tr>\n",
              "      <td>27</td>\n",
              "      <td>2.749603</td>\n",
              "      <td>2.923211</td>\n",
              "      <td>0.337744</td>\n",
              "      <td>18.600912</td>\n",
              "      <td>02:55</td>\n",
              "    </tr>\n",
              "    <tr>\n",
              "      <td>28</td>\n",
              "      <td>2.714103</td>\n",
              "      <td>2.925602</td>\n",
              "      <td>0.338163</td>\n",
              "      <td>18.645443</td>\n",
              "      <td>02:56</td>\n",
              "    </tr>\n",
              "    <tr>\n",
              "      <td>29</td>\n",
              "      <td>2.694887</td>\n",
              "      <td>2.927494</td>\n",
              "      <td>0.338010</td>\n",
              "      <td>18.680750</td>\n",
              "      <td>02:56</td>\n",
              "    </tr>\n",
              "  </tbody>\n",
              "</table>"
            ],
            "text/plain": [
              "<IPython.core.display.HTML object>"
            ]
          },
          "metadata": {
            "tags": []
          }
        }
      ]
    },
    {
      "cell_type": "code",
      "metadata": {
        "id": "z2-FCf1gmHAH"
      },
      "source": [
        "lm_ft_pr = [model_path/f'{lang}_ft', model_path/f'{lang}_ft_vocab']"
      ],
      "execution_count": null,
      "outputs": []
    },
    {
      "cell_type": "code",
      "metadata": {
        "colab": {
          "base_uri": "https://localhost:8080/"
        },
        "id": "aFcCilhjmxlh",
        "outputId": "f06e087f-ca95-45a1-a1e7-3b8e8ccbfc7f"
      },
      "source": [
        "# save model\n",
        "learn.save(lm_ft_pr[0])"
      ],
      "execution_count": null,
      "outputs": [
        {
          "output_type": "execute_result",
          "data": {
            "text/plain": [
              "Path('/content/drive/MyDrive/ml/projects/sa/models/ar_ft.pth')"
            ]
          },
          "metadata": {
            "tags": []
          },
          "execution_count": 35
        }
      ]
    },
    {
      "cell_type": "code",
      "metadata": {
        "id": "fT-ovab73kjl"
      },
      "source": [
        "# save vocab\n",
        "with open(lm_ft_pr[1], 'wb') as f:\n",
        "      pickle.dump(learn.dls.vocab, f)"
      ],
      "execution_count": null,
      "outputs": []
    },
    {
      "cell_type": "code",
      "metadata": {
        "id": "qlmg9I603x4y"
      },
      "source": [
        "# save encoder \n",
        "learn.save_encoder(model_path/'ft_encoder_300')"
      ],
      "execution_count": null,
      "outputs": []
    },
    {
      "cell_type": "markdown",
      "metadata": {
        "id": "g5spw4S4pppl"
      },
      "source": [
        "# Training classifier"
      ]
    },
    {
      "cell_type": "code",
      "metadata": {
        "id": "Sfn7_emAFzwU"
      },
      "source": [
        "random_seed(42,True)"
      ],
      "execution_count": null,
      "outputs": []
    },
    {
      "cell_type": "code",
      "metadata": {
        "id": "nwjfpwJBy2sS"
      },
      "source": [
        "# dls_fn = torch.load(path/'dls/dls_fn_300.pkl')"
      ],
      "execution_count": null,
      "outputs": []
    },
    {
      "cell_type": "markdown",
      "metadata": {
        "id": "t8dADFaKkS1Z"
      },
      "source": [
        "## Create dataloaders"
      ]
    },
    {
      "cell_type": "code",
      "metadata": {
        "colab": {
          "base_uri": "https://localhost:8080/",
          "height": 71
        },
        "id": "455OiyG8leGM",
        "outputId": "2e4512bf-526c-4b4c-fe59-ad0fea018880"
      },
      "source": [
        "# sentencepiece tokenizer with spm model trained in pretraining step\n",
        "tok = SentencePieceTokenizer(lang=lang, sp_model=f'{spm_path}/spm.model', vocab_sz=300)\n",
        "\n",
        "# training dataloader\n",
        "train_dls = DataBlock(\n",
        "    blocks=(TextBlock.from_df('text', tok=tok, vocab=dls_fn.vocab), CategoryBlock),\n",
        "    splitter = RandomSplitter(0.2, seed=42),\n",
        "    get_x=ColReader('text'), \n",
        "    get_y=ColReader('label')\n",
        "    ).dataloaders(train_df, bs=bs)"
      ],
      "execution_count": null,
      "outputs": [
        {
          "output_type": "display_data",
          "data": {
            "text/html": [
              ""
            ],
            "text/plain": [
              "<IPython.core.display.HTML object>"
            ]
          },
          "metadata": {
            "tags": []
          }
        },
        {
          "output_type": "stream",
          "text": [
            "/usr/local/lib/python3.7/dist-packages/numpy/core/_asarray.py:83: VisibleDeprecationWarning: Creating an ndarray from ragged nested sequences (which is a list-or-tuple of lists-or-tuples-or ndarrays with different lengths or shapes) is deprecated. If you meant to do this, you must specify 'dtype=object' when creating the ndarray\n",
            "  return array(a, dtype, copy=False, order=order)\n"
          ],
          "name": "stderr"
        }
      ]
    },
    {
      "cell_type": "code",
      "metadata": {
        "id": "GFwWuQ9oT93P"
      },
      "source": [
        "torch.save(train_dls, path/'train_dls_lstm300_test.pkl')"
      ],
      "execution_count": null,
      "outputs": []
    },
    {
      "cell_type": "code",
      "metadata": {
        "id": "zizl09L5YutZ"
      },
      "source": [
        "# train_dls = torch.load(path/'train_dls_lstm300_test.pkl')"
      ],
      "execution_count": null,
      "outputs": []
    },
    {
      "cell_type": "code",
      "metadata": {
        "colab": {
          "base_uri": "https://localhost:8080/",
          "height": 309
        },
        "id": "XNvqpRX0KsWG",
        "outputId": "0155c152-7fac-49a0-decb-16ec8953ea94"
      },
      "source": [
        "train_dls.show_batch(max_n=4)"
      ],
      "execution_count": null,
      "outputs": [
        {
          "output_type": "display_data",
          "data": {
            "text/html": [
              "<table border=\"1\" class=\"dataframe\">\n",
              "  <thead>\n",
              "    <tr style=\"text-align: right;\">\n",
              "      <th></th>\n",
              "      <th>text</th>\n",
              "      <th>category</th>\n",
              "    </tr>\n",
              "  </thead>\n",
              "  <tbody>\n",
              "    <tr>\n",
              "      <th>0</th>\n",
              "      <td>▁xxbos ▁p ar ol es ▁wa dha 3 ▁fi h ▁t et s d am ▁ kh ay f ▁t et r d m ▁ mou s h ▁ena ▁li ▁n 9 oul l ▁7 a 9 ▁w ▁ki ma ▁g hi ri ▁n et r dem ▁n cha re f ▁ta s h ki la ▁w ▁7 w om ▁ eb da 3 at ▁b l ▁k am ▁d ra p e a u wa t ▁n h ez ▁w ▁ken ▁l za z ▁k ha la na ▁f l ▁h am ▁sa ra 7 ▁ na h ki ▁ta la 3 ▁ ha b t ▁dima ▁ kh ay dh ▁1 0 0 ▁m n ▁ kh o t ta ▁f y ▁ra ssi ▁3 al ▁3 wa j ▁9 al bi ▁fa y dh ▁t ay r ▁w n t y ▁b ay dh ▁ma b rou</td>\n",
              "      <td>-1</td>\n",
              "    </tr>\n",
              "    <tr>\n",
              "      <th>1</th>\n",
              "      <td>▁xxbos ▁el ▁ i 3 lem ▁m te 3 na ▁w ▁la ▁7 at ta ▁7 ad ▁g hi rou ▁5 at er ▁fe m ma ▁fi ▁3 a h d ▁el ▁be ji ▁chkoun ▁7 aw el ▁ em a ▁wa 9 tha ▁7 aw lou ▁ya 3 m lou ▁3 rou ch y ya ▁l 9 aw ou ha ▁7 k eya ▁f er g ha ▁d on c ▁ raj 3 ou ▁e j j me 3 a ▁m te 3 ▁el ▁f et na ▁h ed hou ma ▁l el ▁ i 3 lem ▁a ya ▁si di ▁b de w ▁b ▁n ed ya ▁el ▁fe ni ▁3 am lou ▁men ha ▁m ch k la ▁w ▁ba 3 ed ▁nes s ma ▁w ▁ba 3 ed ▁fa c ▁man nou ba ▁w ▁ba 3 ed ▁ ez ay tou na ▁w ▁7 k e</td>\n",
              "      <td>-1</td>\n",
              "    </tr>\n",
              "    <tr>\n",
              "      <th>2</th>\n",
              "      <td>▁xxbos ▁sa m hi ni ▁ya ▁ba i a ▁kif ▁n ek t eb ▁ca v a ▁kif ▁ na b 3 et na l 9 a ▁barcha ▁a 8 la t ▁li ▁ i ▁h â ta ▁el ka v e ▁fi ▁en g li s h ▁ te 3 a on ▁ i ▁fi ▁el ▁k et i ba ▁ama ▁kif ▁n ez r eb ▁ na b 3 et ▁ye b an ▁eli ▁8 al et ▁ o k ▁ ni o ta ▁ ha bi t ▁n ek t b la k ▁n et la m o ▁wa ▁kol ▁ i om ▁ ek t b o ▁il a ▁3 ala ▁a j ma 3 in ▁ na b de o ▁a h na ▁ya ▁ba i a ▁ta o a ▁el ▁jam i 3 ▁ye o as lo ▁ma 3 a na ▁ ar jou</td>\n",
              "      <td>-1</td>\n",
              "    </tr>\n",
              "    <tr>\n",
              "      <th>3</th>\n",
              "      <td>▁xxbos ▁s é lem ▁ al ay kom ▁brabi ▁en i ▁mo wa t é n ▁men ▁s ou ssa ▁m ch it ▁3 am ▁8 2 ▁li t ali a ▁m 3 a ▁mar ti ▁b ▁p as p or i ▁b ▁kol ▁chay ▁w ▁sa h é l ▁rabi ▁w ▁ ji b t ▁ 2 ▁w l é d ▁l oul ▁ ou sse ma ▁ ab d el k ad er ▁w ▁ 2 ▁bech ir ▁ ab d el k ad er ▁w ▁k on t ▁fi ▁ it ali a ▁n ek h dem ▁ba 7 ar ▁n ha r ▁men ▁n ha ra t ▁5 raj t ▁b ek ri ▁n ek h di m ▁w ▁5 ali t ▁mar ti ▁m 3 a ▁s 8 ar ▁fi ▁d ar ▁mar ti ▁5 ar ji t ▁s be h ▁bi ch ▁ta 9</td>\n",
              "      <td>0</td>\n",
              "    </tr>\n",
              "  </tbody>\n",
              "</table>"
            ],
            "text/plain": [
              "<IPython.core.display.HTML object>"
            ]
          },
          "metadata": {
            "tags": []
          }
        }
      ]
    },
    {
      "cell_type": "markdown",
      "metadata": {
        "id": "XmWMdAwtkXeI"
      },
      "source": [
        "## Create learner"
      ]
    },
    {
      "cell_type": "code",
      "metadata": {
        "id": "3Rt0g9cHgPwH"
      },
      "source": [
        "learn_tr = text_classifier_learner(train_dls, AWD_LSTM, metrics=[accuracy], drop_mult=0.8,\n",
        "                                    pretrained=False).to_fp16()\n",
        "learn_tr.load_encoder(model_path/'ft_encoder_300')\n",
        "learn_tr.freeze()"
      ],
      "execution_count": null,
      "outputs": []
    },
    {
      "cell_type": "markdown",
      "metadata": {
        "id": "anRdF_fVkjZn"
      },
      "source": [
        "## Training using gradual unfreezing"
      ]
    },
    {
      "cell_type": "code",
      "metadata": {
        "colab": {
          "base_uri": "https://localhost:8080/",
          "height": 142
        },
        "id": "cJ4K0ovr-Z7y",
        "collapsed": true,
        "outputId": "4372dd60-9735-4866-a7e2-0dc6e97eddc6"
      },
      "source": [
        "learn_tr.fit_one_cycle(3, 5e-2, moms=(0.8, 0.7, 0.8))"
      ],
      "execution_count": null,
      "outputs": [
        {
          "output_type": "display_data",
          "data": {
            "text/html": [
              "<table border=\"1\" class=\"dataframe\">\n",
              "  <thead>\n",
              "    <tr style=\"text-align: left;\">\n",
              "      <th>epoch</th>\n",
              "      <th>train_loss</th>\n",
              "      <th>valid_loss</th>\n",
              "      <th>accuracy</th>\n",
              "      <th>time</th>\n",
              "    </tr>\n",
              "  </thead>\n",
              "  <tbody>\n",
              "    <tr>\n",
              "      <td>0</td>\n",
              "      <td>0.736462</td>\n",
              "      <td>0.673014</td>\n",
              "      <td>0.769786</td>\n",
              "      <td>02:14</td>\n",
              "    </tr>\n",
              "    <tr>\n",
              "      <td>1</td>\n",
              "      <td>0.726154</td>\n",
              "      <td>0.656314</td>\n",
              "      <td>0.785929</td>\n",
              "      <td>02:14</td>\n",
              "    </tr>\n",
              "    <tr>\n",
              "      <td>2</td>\n",
              "      <td>0.695689</td>\n",
              "      <td>0.640963</td>\n",
              "      <td>0.788071</td>\n",
              "      <td>02:14</td>\n",
              "    </tr>\n",
              "  </tbody>\n",
              "</table>"
            ],
            "text/plain": [
              "<IPython.core.display.HTML object>"
            ]
          },
          "metadata": {
            "tags": []
          }
        }
      ]
    },
    {
      "cell_type": "code",
      "metadata": {
        "colab": {
          "base_uri": "https://localhost:8080/"
        },
        "id": "fgUcz9QdXj3z",
        "outputId": "5556c16a-44d8-4727-abc9-13783dcc20fc"
      },
      "source": [
        "learn_tr.save(path/'models/temp0')"
      ],
      "execution_count": null,
      "outputs": [
        {
          "output_type": "execute_result",
          "data": {
            "text/plain": [
              "Path('/content/drive/MyDrive/ml/projects/sa/models/temp0.pth')"
            ]
          },
          "metadata": {
            "tags": []
          },
          "execution_count": 27
        }
      ]
    },
    {
      "cell_type": "code",
      "metadata": {
        "colab": {
          "base_uri": "https://localhost:8080/"
        },
        "id": "wUcbIga1ZGeh",
        "outputId": "677d7d59-bbac-4980-8e35-772ec9018a94"
      },
      "source": [
        "# learn_tr.load(path/'models/temp0')"
      ],
      "execution_count": null,
      "outputs": [
        {
          "output_type": "execute_result",
          "data": {
            "text/plain": [
              "<fastai.text.learner.TextLearner at 0x7f665903f090>"
            ]
          },
          "metadata": {
            "tags": []
          },
          "execution_count": 22
        }
      ]
    },
    {
      "cell_type": "code",
      "metadata": {
        "colab": {
          "base_uri": "https://localhost:8080/",
          "height": 142
        },
        "id": "c7p_s5FEoCUK",
        "collapsed": true,
        "outputId": "f5c9d53d-96a6-4b98-feb6-1ad92e85795f"
      },
      "source": [
        "learn_tr.freeze_to(-2)\n",
        "learn_tr.fit_one_cycle(3, slice(2e-2/(2.6**4),2e-2), moms=(0.8, 0.7, 0.8))"
      ],
      "execution_count": null,
      "outputs": [
        {
          "output_type": "display_data",
          "data": {
            "text/html": [
              "<table border=\"1\" class=\"dataframe\">\n",
              "  <thead>\n",
              "    <tr style=\"text-align: left;\">\n",
              "      <th>epoch</th>\n",
              "      <th>train_loss</th>\n",
              "      <th>valid_loss</th>\n",
              "      <th>accuracy</th>\n",
              "      <th>time</th>\n",
              "    </tr>\n",
              "  </thead>\n",
              "  <tbody>\n",
              "    <tr>\n",
              "      <td>0</td>\n",
              "      <td>0.662954</td>\n",
              "      <td>0.599412</td>\n",
              "      <td>0.820429</td>\n",
              "      <td>01:19</td>\n",
              "    </tr>\n",
              "    <tr>\n",
              "      <td>1</td>\n",
              "      <td>0.634857</td>\n",
              "      <td>0.576196</td>\n",
              "      <td>0.832000</td>\n",
              "      <td>01:19</td>\n",
              "    </tr>\n",
              "    <tr>\n",
              "      <td>2</td>\n",
              "      <td>0.580597</td>\n",
              "      <td>0.574900</td>\n",
              "      <td>0.835857</td>\n",
              "      <td>01:19</td>\n",
              "    </tr>\n",
              "  </tbody>\n",
              "</table>"
            ],
            "text/plain": [
              "<IPython.core.display.HTML object>"
            ]
          },
          "metadata": {
            "tags": []
          }
        }
      ]
    },
    {
      "cell_type": "code",
      "metadata": {
        "colab": {
          "base_uri": "https://localhost:8080/"
        },
        "id": "yjWmgTKgKBJb",
        "outputId": "d37741d8-e3a5-492d-fb80-d2e14ae71771"
      },
      "source": [
        "learn_tr.save(path/'models/temp2')"
      ],
      "execution_count": null,
      "outputs": [
        {
          "output_type": "execute_result",
          "data": {
            "text/plain": [
              "Path('/content/drive/MyDrive/ml/projects/sa/models/temp2.pth')"
            ]
          },
          "metadata": {
            "tags": []
          },
          "execution_count": 24
        }
      ]
    },
    {
      "cell_type": "code",
      "metadata": {
        "colab": {
          "base_uri": "https://localhost:8080/"
        },
        "id": "Y5AcosbQKaMz",
        "outputId": "259cdfbf-ace8-415e-901a-1e328b054c1e"
      },
      "source": [
        "# learn_tr.load(path/'models/temp2')"
      ],
      "execution_count": null,
      "outputs": [
        {
          "output_type": "execute_result",
          "data": {
            "text/plain": [
              "<fastai.text.learner.TextLearner at 0x7f665903f090>"
            ]
          },
          "metadata": {
            "tags": []
          },
          "execution_count": 32
        }
      ]
    },
    {
      "cell_type": "code",
      "metadata": {
        "colab": {
          "base_uri": "https://localhost:8080/",
          "height": 111
        },
        "id": "g-LN932ro9QY",
        "collapsed": true,
        "outputId": "aadeb1db-dad0-4b68-e2a5-a6d3263c1f3a"
      },
      "source": [
        "learn_tr.freeze_to(-3)\n",
        "learn_tr.fit_one_cycle(2, slice(7e-3/(2.6**4),7e-3), moms=(0.8, 0.7, 0.8))"
      ],
      "execution_count": null,
      "outputs": [
        {
          "output_type": "display_data",
          "data": {
            "text/html": [
              "<table border=\"1\" class=\"dataframe\">\n",
              "  <thead>\n",
              "    <tr style=\"text-align: left;\">\n",
              "      <th>epoch</th>\n",
              "      <th>train_loss</th>\n",
              "      <th>valid_loss</th>\n",
              "      <th>accuracy</th>\n",
              "      <th>time</th>\n",
              "    </tr>\n",
              "  </thead>\n",
              "  <tbody>\n",
              "    <tr>\n",
              "      <td>0</td>\n",
              "      <td>0.590876</td>\n",
              "      <td>0.574029</td>\n",
              "      <td>0.836071</td>\n",
              "      <td>01:19</td>\n",
              "    </tr>\n",
              "    <tr>\n",
              "      <td>1</td>\n",
              "      <td>0.554038</td>\n",
              "      <td>0.582437</td>\n",
              "      <td>0.839143</td>\n",
              "      <td>01:20</td>\n",
              "    </tr>\n",
              "  </tbody>\n",
              "</table>"
            ],
            "text/plain": [
              "<IPython.core.display.HTML object>"
            ]
          },
          "metadata": {
            "tags": []
          }
        }
      ]
    },
    {
      "cell_type": "code",
      "metadata": {
        "colab": {
          "base_uri": "https://localhost:8080/"
        },
        "id": "8YBDRkszIbcM",
        "outputId": "3e4c3dc2-beb6-47fe-f069-d81bc10e4d0d"
      },
      "source": [
        "learn_tr.save(path/'models/temp3')"
      ],
      "execution_count": null,
      "outputs": [
        {
          "output_type": "execute_result",
          "data": {
            "text/plain": [
              "Path('/content/drive/MyDrive/ml/projects/sa/models/temp3.pth')"
            ]
          },
          "metadata": {
            "tags": []
          },
          "execution_count": 16
        }
      ]
    },
    {
      "cell_type": "code",
      "metadata": {
        "colab": {
          "base_uri": "https://localhost:8080/"
        },
        "id": "Xz9HDIykJn_Q",
        "outputId": "9a61625d-6f13-49d6-9d54-cac97981fe9a"
      },
      "source": [
        "# learn_tr.load(path/'models/temp3')"
      ],
      "execution_count": null,
      "outputs": [
        {
          "output_type": "execute_result",
          "data": {
            "text/plain": [
              "<fastai.text.learner.TextLearner at 0x7f66534bfbd0>"
            ]
          },
          "metadata": {
            "tags": []
          },
          "execution_count": 36
        }
      ]
    },
    {
      "cell_type": "code",
      "metadata": {
        "colab": {
          "base_uri": "https://localhost:8080/",
          "height": 173
        },
        "id": "4R3epNmtpwoG",
        "collapsed": true,
        "outputId": "1116a2a2-aab7-4978-d80d-69fa3e2d0085"
      },
      "source": [
        "learn_tr.unfreeze()\n",
        "learn_tr.fit_one_cycle(4, slice(3e-3/(2.6**4),3e-3), moms=(0.8, 0.7, 0.8))"
      ],
      "execution_count": null,
      "outputs": [
        {
          "output_type": "display_data",
          "data": {
            "text/html": [
              "<table border=\"1\" class=\"dataframe\">\n",
              "  <thead>\n",
              "    <tr style=\"text-align: left;\">\n",
              "      <th>epoch</th>\n",
              "      <th>train_loss</th>\n",
              "      <th>valid_loss</th>\n",
              "      <th>accuracy</th>\n",
              "      <th>time</th>\n",
              "    </tr>\n",
              "  </thead>\n",
              "  <tbody>\n",
              "    <tr>\n",
              "      <td>0</td>\n",
              "      <td>0.303624</td>\n",
              "      <td>0.450897</td>\n",
              "      <td>0.838571</td>\n",
              "      <td>01:21</td>\n",
              "    </tr>\n",
              "    <tr>\n",
              "      <td>1</td>\n",
              "      <td>0.289323</td>\n",
              "      <td>0.474417</td>\n",
              "      <td>0.837929</td>\n",
              "      <td>01:21</td>\n",
              "    </tr>\n",
              "    <tr>\n",
              "      <td>2</td>\n",
              "      <td>0.260646</td>\n",
              "      <td>0.479603</td>\n",
              "      <td>0.838714</td>\n",
              "      <td>01:21</td>\n",
              "    </tr>\n",
              "    <tr>\n",
              "      <td>3</td>\n",
              "      <td>0.241612</td>\n",
              "      <td>0.507132</td>\n",
              "      <td>0.839786</td>\n",
              "      <td>01:21</td>\n",
              "    </tr>\n",
              "  </tbody>\n",
              "</table>"
            ],
            "text/plain": [
              "<IPython.core.display.HTML object>"
            ]
          },
          "metadata": {
            "tags": []
          }
        }
      ]
    },
    {
      "cell_type": "code",
      "metadata": {
        "colab": {
          "base_uri": "https://localhost:8080/"
        },
        "id": "jhpWWr5-ykf_",
        "outputId": "4b8d689e-7d33-4fb5-9b08-4831f67fb2f8"
      },
      "source": [
        "learn_tr.save(path/'models/subword_classifier350')"
      ],
      "execution_count": null,
      "outputs": [
        {
          "output_type": "execute_result",
          "data": {
            "text/plain": [
              "Path('/content/drive/MyDrive/ml/projects/sa/models/subword_classifier350.pth')"
            ]
          },
          "metadata": {
            "tags": []
          },
          "execution_count": 126
        }
      ]
    },
    {
      "cell_type": "code",
      "metadata": {
        "colab": {
          "base_uri": "https://localhost:8080/"
        },
        "id": "EEBsYWSvPBsq",
        "outputId": "620ac63a-1e19-40b2-9de2-c8c60c2cf0e6"
      },
      "source": [
        "# learn_tr.load(path/'models/subword_classifier300')"
      ],
      "execution_count": null,
      "outputs": [
        {
          "output_type": "execute_result",
          "data": {
            "text/plain": [
              "<fastai.text.learner.TextLearner at 0x7efb49692d68>"
            ]
          },
          "metadata": {
            "tags": []
          },
          "execution_count": 13
        }
      ]
    },
    {
      "cell_type": "markdown",
      "metadata": {
        "id": "MZo8WvqXlei4"
      },
      "source": [
        "#inference"
      ]
    },
    {
      "cell_type": "code",
      "metadata": {
        "id": "_242Z4I35E7q"
      },
      "source": [
        "subm = pd.read_csv(path/'SampleSubmission.csv')"
      ],
      "execution_count": null,
      "outputs": []
    },
    {
      "cell_type": "code",
      "metadata": {
        "id": "WXdpNY8CxxD5"
      },
      "source": [
        "# create a test dataloader\n",
        "test_dl=train_dls.test_dl(test_df, text_col='text')"
      ],
      "execution_count": null,
      "outputs": []
    },
    {
      "cell_type": "code",
      "metadata": {
        "colab": {
          "base_uri": "https://localhost:8080/",
          "height": 17
        },
        "id": "qE3x4Rzkx0QV",
        "outputId": "cd784df6-f336-4168-fff0-e692bbe4aacd"
      },
      "source": [
        "# get predictions\n",
        "preds = learn_tr.get_preds(dl=test_dl)"
      ],
      "execution_count": null,
      "outputs": [
        {
          "output_type": "display_data",
          "data": {
            "text/html": [
              ""
            ],
            "text/plain": [
              "<IPython.core.display.HTML object>"
            ]
          },
          "metadata": {
            "tags": []
          }
        }
      ]
    },
    {
      "cell_type": "code",
      "metadata": {
        "id": "izVbGKMgx5BM"
      },
      "source": [
        "subm['ID'] = test_df['ID']\n",
        "subm['label'] = torch.argmax(preds[0], dim=1) - 1\n",
        "subm.set_index('ID', inplace=True)"
      ],
      "execution_count": null,
      "outputs": []
    },
    {
      "cell_type": "code",
      "metadata": {
        "id": "YdvcNkIm9sNB"
      },
      "source": [
        "# save submission\n",
        "subm.to_csv(path/'subm7.csv')"
      ],
      "execution_count": null,
      "outputs": []
    },
    {
      "cell_type": "code",
      "metadata": {
        "id": "6qzZUniX_J6r"
      },
      "source": [
        ""
      ],
      "execution_count": null,
      "outputs": []
    }
  ]
}